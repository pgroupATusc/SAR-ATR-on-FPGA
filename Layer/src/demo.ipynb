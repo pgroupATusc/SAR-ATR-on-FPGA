{
 "cells": [
  {
   "attachments": {},
   "cell_type": "markdown",
   "metadata": {},
   "source": [
    "# GNN-based SAR Automatic Target Recognition on Data-center Scale FPGA"
   ]
  },
  {
   "attachments": {},
   "cell_type": "markdown",
   "metadata": {},
   "source": [
    "### introduction\n",
    "This demonstration will present a key remote-sensing application - Synthetic Aperture Radar (SAR) Automatic Targer Recognition (ATR) -- on a state-of-the-art data-center scale FPGA board, AMD -Xilinx Alveo U280. We develop a graph neural network (GNN) for SAR ATRm which has high accuracy and low computation complexity. We build a hardware asccelerator for the proposed GNN model, which can achieve high throughput and low-latency SAR ATR \n",
    "\n",
    "<img src=\"./pic/280-passive-hero.jpg\"  width=\"600\" height=\"400\">\n"
   ]
  },
  {
   "attachments": {},
   "cell_type": "markdown",
   "metadata": {},
   "source": [
    "### the overview of the GNN model\n",
    "\n",
    "<img src=\"./pic/overview.png\"  width=\"1000\" height=\"200\">\n",
    "\n",
    "The proposed GNN model is demonstrated in the Figure above. The input SAR image is first transformed into the graph representation to form an input graph. Then, the input graph is sent to the Graph Neural Network (GNN) for classification. The ooutput of the GNN is the classification results.\n",
    "\n"
   ]
  },
  {
   "cell_type": "markdown",
   "metadata": {},
   "source": []
  },
  {
   "cell_type": "code",
   "execution_count": 1,
   "metadata": {},
   "outputs": [],
   "source": [
    "import os\n",
    "os.environ['XCL_EMULATION_MODE'] = \"sw_emu\""
   ]
  },
  {
   "cell_type": "code",
   "execution_count": 2,
   "metadata": {},
   "outputs": [
    {
     "ename": "ModuleNotFoundError",
     "evalue": "No module named 'sarfpga'",
     "output_type": "error",
     "traceback": [
      "\u001b[0;31m---------------------------------------------------------------------------\u001b[0m",
      "\u001b[0;31mModuleNotFoundError\u001b[0m                       Traceback (most recent call last)",
      "Cell \u001b[0;32mIn[2], line 2\u001b[0m\n\u001b[1;32m      1\u001b[0m \u001b[39m#  test GNN accelerator\u001b[39;00m\n\u001b[0;32m----> 2\u001b[0m \u001b[39mimport\u001b[39;00m \u001b[39msarfpga\u001b[39;00m \n",
      "\u001b[0;31mModuleNotFoundError\u001b[0m: No module named 'sarfpga'"
     ]
    }
   ],
   "source": [
    "#  test GNN accelerator\n",
    "import sarfpga \n"
   ]
  },
  {
   "cell_type": "code",
   "execution_count": null,
   "metadata": {},
   "outputs": [],
   "source": []
  }
 ],
 "metadata": {
  "kernelspec": {
   "display_name": "sar2",
   "language": "python",
   "name": "python3"
  },
  "language_info": {
   "codemirror_mode": {
    "name": "ipython",
    "version": 3
   },
   "file_extension": ".py",
   "mimetype": "text/x-python",
   "name": "python",
   "nbconvert_exporter": "python",
   "pygments_lexer": "ipython3",
   "version": "3.8.15"
  },
  "orig_nbformat": 4
 },
 "nbformat": 4,
 "nbformat_minor": 2
}
